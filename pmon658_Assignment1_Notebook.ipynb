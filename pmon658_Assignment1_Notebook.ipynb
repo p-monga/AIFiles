{
  "cells": [
    {
      "cell_type": "markdown",
      "id": "52915c08-2155-4325-a96f-fa2ff9c84e22",
      "metadata": {
        "id": "52915c08-2155-4325-a96f-fa2ff9c84e22"
      },
      "source": [
        "# COMPSCI 714 - Assignment 1"
      ]
    },
    {
      "cell_type": "markdown",
      "id": "3b5e4bd1-3d79-450b-bff4-a09eeb234e60",
      "metadata": {
        "id": "3b5e4bd1-3d79-450b-bff4-a09eeb234e60"
      },
      "source": [
        "This assignment will evaluate the content covered in weeks 1 & 2. This assignment aims at evaluating your coding skills, aligned with what we covered in the lectutorials, but also your critical thinking and self-learning abilities with a few more advanced questions."
      ]
    },
    {
      "cell_type": "markdown",
      "id": "f8c6a36f-fbe7-4917-a496-449c23c18c1f",
      "metadata": {
        "id": "f8c6a36f-fbe7-4917-a496-449c23c18c1f"
      },
      "source": [
        "**Name**: Pankaj Monga\n"
      ]
    },
    {
      "cell_type": "markdown",
      "id": "382bc6af-baf8-4514-b7e6-67a85e3283a1",
      "metadata": {
        "id": "382bc6af-baf8-4514-b7e6-67a85e3283a1"
      },
      "source": [
        "## **Part 1: Data loading, exploration, cleaning and pre-processing** - 17 marks"
      ]
    },
    {
      "cell_type": "markdown",
      "id": "027fe41d-35a4-4d4f-b226-268720a7778c",
      "metadata": {
        "id": "027fe41d-35a4-4d4f-b226-268720a7778c"
      },
      "source": [
        "Some of the libraries useful to this part are found in the following cell. You might need to import some more yourself for some of the tasks."
      ]
    },
    {
      "cell_type": "code",
      "execution_count": null,
      "id": "16f49140-6a7e-4726-a981-f63531df4986",
      "metadata": {
        "id": "16f49140-6a7e-4726-a981-f63531df4986"
      },
      "outputs": [],
      "source": [
        "import numpy as np\n",
        "import pandas as pd\n",
        "import sklearn\n",
        "import matplotlib.pyplot as plt\n",
        "from pathlib import Path\n",
        "import seaborn as sns"
      ]
    },
    {
      "cell_type": "markdown",
      "id": "77454890-75c8-4af8-b7c8-ae263fb50c90",
      "metadata": {
        "id": "77454890-75c8-4af8-b7c8-ae263fb50c90"
      },
      "source": [
        "### **Task 1: Load the dataset** - 1 mark\n",
        "The dataset used in the assignment contains multiple attributes of houses and their target sale price stored in `SalePrice`. \\\n",
        "You can find information about each attribute in the \"Housing Price Data Dictionnary.txt\" file.\n",
        "\n",
        "**Task deliverable**:\n",
        "- Load the dataset contained in the file *house_prices.csv* as a Pandas DataFrame in a variable called `df_data`."
      ]
    },
    {
      "cell_type": "code",
      "execution_count": null,
      "id": "5b0aa1bf-beab-4734-97e1-a85e3dd0a777",
      "metadata": {
        "id": "5b0aa1bf-beab-4734-97e1-a85e3dd0a777"
      },
      "outputs": [],
      "source": [
        "file_path = \"house_prices.csv\"\n",
        "if Path(file_path).is_file():\n",
        "    df_data = pd.read_csv(file_path)\n",
        "else:\n",
        "    print(\"Error: The file not found.\")"
      ]
    },
    {
      "cell_type": "markdown",
      "id": "dc4226ba-9348-4a71-a793-1109b8e544a6",
      "metadata": {
        "id": "dc4226ba-9348-4a71-a793-1109b8e544a6"
      },
      "source": [
        "### **Task 2: Extract basic dataset information** - 2 marks\n",
        "\n",
        "**Task deliverable**:\n",
        "\n",
        "Complete the `extract_basic_info()` function which takes a tabular dataset in the form of a Pandas Dataframe as parameter, and returns a tuple containing the following information:\n",
        "- The number of instances in the dataset.\n",
        "- The total number of attributes in the dataset.\n",
        "- The number of numerical attributes.\n",
        "- The number of categorical attributes.\n",
        "- The total memory size of the dataset.\n",
        "\n",
        "The order of the elements in the returned tuple should follow the same order as follow: (number of instances, totoal number of attributes, number of numerical attributes, number of categorical attributes, total memory size).\n",
        "\n",
        "**Remarks**:\n",
        "- For this task, we define a numerical attribute as an attribute having numeric values. These values could represent a continuous or categorical attribute. Contrastively, we define a symbolic attribute as an attribute having non-numeric values.\n",
        "- During grading, your function will be tested with the dataset previously loaded, but also with other hidden datasets. Make sure to test it to make sure it works fine on a few other datasets."
      ]
    },
    {
      "cell_type": "code",
      "execution_count": null,
      "id": "5c61cf43-2be8-4f6f-ac44-b99dcfb1e3ae",
      "metadata": {
        "id": "5c61cf43-2be8-4f6f-ac44-b99dcfb1e3ae"
      },
      "outputs": [],
      "source": [
        "def extract_basic_info(df_dataset):\n",
        "    total_instances = df_dataset.shape[0]\n",
        "    total_attributes = df_dataset.shape[1]\n",
        "    total_numerical_attributes = df_dataset.select_dtypes(include=['number']).shape[1]\n",
        "    total_nonnumerical_attributes = df_dataset.select_dtypes(exclude=['number']).shape[1]\n",
        "    total_memory = df_dataset.memory_usage(deep=True).sum().item()\n",
        "    return(total_instances, total_attributes, total_numerical_attributes, total_nonnumerical_attributes, total_memory)"
      ]
    },
    {
      "cell_type": "code",
      "execution_count": null,
      "id": "e7e70992-6a8f-4bc5-a03c-c261d33c3d52",
      "metadata": {
        "id": "e7e70992-6a8f-4bc5-a03c-c261d33c3d52",
        "outputId": "e161c7cf-e228-4d03-9d2a-798924067f22"
      },
      "outputs": [
        {
          "name": "stdout",
          "output_type": "stream",
          "text": [
            "(1460, 81, 35, 46, 3919398)\n"
          ]
        }
      ],
      "source": [
        "print(extract_basic_info(df_data))"
      ]
    },
    {
      "cell_type": "markdown",
      "id": "05775003-eaa9-4235-a1b8-422f6cad3cb7",
      "metadata": {
        "collapsed": true,
        "jupyter": {
          "outputs_hidden": true
        },
        "scrolled": true,
        "id": "05775003-eaa9-4235-a1b8-422f6cad3cb7"
      },
      "source": [
        "### **Task 3: Basic exploration** - 2 marks"
      ]
    },
    {
      "cell_type": "markdown",
      "id": "01d0cc83-eb37-45ab-ad19-24b9724dedd6",
      "metadata": {
        "id": "01d0cc83-eb37-45ab-ad19-24b9724dedd6"
      },
      "source": [
        "#### **Task 3.1 - Histograms of surface attributes** - 1 mark\n",
        "This question is based on the dataset loaded in Task 1.\n",
        "\n",
        "**Task deliverable**:\n",
        "- Identify the 14 attributes representing areas in square feet in the dataset, and plot them as histograms.\n",
        "\n",
        "**Remark**: Having a look in the data dictionary provided with the dataset might help.\n"
      ]
    },
    {
      "cell_type": "code",
      "execution_count": null,
      "id": "18fdf3c9-56b6-4115-b14c-d1de8f6747fb",
      "metadata": {
        "id": "18fdf3c9-56b6-4115-b14c-d1de8f6747fb",
        "outputId": "cf436407-3853-4147-d9e1-a110073b8e6a"
      },
      "outputs": [
        {
          "data": {
            "image/png": "[encoded data removed]",
            "text/plain": [
              "<Figure size 1500x1000 with 20 Axes>"
            ]
          },
          "metadata": {},
          "output_type": "display_data"
        }
      ],
      "source": [
        "#fix column 'MnsVarArea'\n",
        "df_data['MasVnrArea'] = pd.to_numeric(df_data['MasVnrArea'], errors='coerce')\n",
        "\n",
        "# List of columns representing measurements in square feet\n",
        "sqft_columns = [\n",
        "    'LotArea', 'MasVnrArea', 'BsmtFinSF1', 'BsmtFinSF2', 'BsmtUnfSF',\n",
        "    'TotalBsmtSF', '1stFlrSF', '2ndFlrSF', 'LowQualFinSF', 'GrLivArea',\n",
        "    'WoodDeckSF', 'OpenPorchSF', 'EnclosedPorch', '3SsnPorch', 'ScreenPorch',\n",
        "    'PoolArea', 'GarageArea']\n",
        "sqft_columns_dataset = df_data[sqft_columns]\n",
        "\n",
        "#set graph parameters\n",
        "plt.rc('font', size=9)\n",
        "plt.rc('axes', labelsize=9, titlesize=9)\n",
        "plt.rc('legend', fontsize=9)\n",
        "plt.rc('xtick', labelsize=8)\n",
        "plt.rc('ytick', labelsize=8)\n",
        "\n",
        "# plot the histograms for the sqft columns\n",
        "sqft_columns_dataset.hist(bins=50, figsize=(15, 10))\n",
        "plt.show()"
      ]
    },
    {
      "cell_type": "markdown",
      "id": "f4d5fb19-0035-4d47-9e7e-a76a1fa6953c",
      "metadata": {
        "id": "f4d5fb19-0035-4d47-9e7e-a76a1fa6953c"
      },
      "source": [
        "#### **Task 3.2: Correlations with target** - 1 mark\n",
        "**Task deliverable**:\n",
        "- Display in descending order the correlation coefficients between the 14 area attributes identified previously and the target attribute `SalePrice`."
      ]
    },
    {
      "cell_type": "code",
      "execution_count": null,
      "id": "01a43a4b-ea07-452a-9f2a-79a92a6e2f0e",
      "metadata": {
        "id": "01a43a4b-ea07-452a-9f2a-79a92a6e2f0e",
        "outputId": "97508c2d-fa95-45d6-c2b9-d2a1b960bffc"
      },
      "outputs": [
        {
          "name": "stdout",
          "output_type": "stream",
          "text": [
            "GrLivArea        0.708624\n",
            "GarageArea       0.623431\n",
            "TotalBsmtSF      0.613581\n",
            "1stFlrSF         0.605852\n",
            "MasVnrArea       0.477493\n",
            "BsmtFinSF1       0.386420\n",
            "WoodDeckSF       0.324413\n",
            "2ndFlrSF         0.319334\n",
            "OpenPorchSF      0.315856\n",
            "LotArea          0.263843\n",
            "BsmtUnfSF        0.214479\n",
            "ScreenPorch      0.111447\n",
            "PoolArea         0.092404\n",
            "3SsnPorch        0.044584\n",
            "BsmtFinSF2      -0.011378\n",
            "LowQualFinSF    -0.025606\n",
            "EnclosedPorch   -0.128578\n",
            "dtype: float64\n"
          ]
        }
      ],
      "source": [
        "# Calculate correlation coefficients with 'SalePrice'\n",
        "correlation_with_SalePrice = sqft_columns_dataset.corrwith(df_data['SalePrice'])\n",
        "\n",
        "# Display correlations in descending order\n",
        "print(correlation_with_SalePrice.sort_values(ascending=False))"
      ]
    },
    {
      "cell_type": "markdown",
      "id": "090e4cbd-0fb4-4f99-8823-fa1bb2dff4c6",
      "metadata": {
        "id": "090e4cbd-0fb4-4f99-8823-fa1bb2dff4c6"
      },
      "source": [
        "### **Task 4: Splitting the data in train and test sets** - 4 marks\n",
        "The dataset has a modest size, so it might be worth investigating the use of stratified sampling."
      ]
    },
    {
      "cell_type": "markdown",
      "id": "f0f831e1-8c2f-4799-98fc-b893d0c852dd",
      "metadata": {
        "id": "f0f831e1-8c2f-4799-98fc-b893d0c852dd"
      },
      "source": [
        "#### **Task 4.1: Selecting and preparing an attribute for the sampling** - 2 marks\n",
        "\n",
        "**Task deliverables**:\n",
        "\n",
        "1. Select the area attribute (from Task 3.2) with the highest correlation to the target `SalePrice`. \\\n",
        "Based on the selected attribute, sort the instances into 4 bins. The bins edges are defined as: [$0$, $median \\times 0.5$, $median$, $median \\times 1.5$, $\\infty$]. \\\n",
        "$median$ corresponds to the median value of the previously selected area attribute's values. \\\n",
        "Create a new attribute corresponding to the category each instance (house) is binned into.\n",
        "3. Visualise the number of instances (houses) in each category with a bar plot."
      ]
    },
    {
      "cell_type": "code",
      "execution_count": null,
      "id": "e90cdeb6-f1e0-4744-ae6d-70404b9a12bd",
      "metadata": {
        "id": "e90cdeb6-f1e0-4744-ae6d-70404b9a12bd",
        "outputId": "b6eeca95-aff8-40ab-f174-55cec5fa8950"
      },
      "outputs": [
        {
          "data": {
            "image/png": "[encoded data removed]",
            "text/plain": [
              "<Figure size 1000x600 with 1 Axes>"
            ]
          },
          "metadata": {},
          "output_type": "display_data"
        }
      ],
      "source": [
        "highest_corr_Attr = correlation_with_SalePrice.idxmax()\n",
        "\n",
        "#Calculate Median\n",
        "median_value = df_data[highest_corr_Attr].median()\n",
        "\n",
        "#Bin the data\n",
        "bin_edges = [0, median_value * 0.5, median_value, median_value * 1.5, np.inf]\n",
        "bin_labels = ['Small liv Area', 'Medium liv Area', 'Large liv Area', 'Extra large liv Area']\n",
        "df_data['Liv_Area_Category'] = pd.cut(df_data[highest_corr_Attr], bins=bin_edges, labels=bin_labels, include_lowest=True)\n",
        "#Bar plot data\n",
        "category_counts = df_data['Liv_Area_Category'].value_counts().reindex(bin_labels)\n",
        "\n",
        "#Bar Plot\n",
        "plt.figure(figsize=(10, 6))\n",
        "sns.barplot(x=category_counts.index, y=category_counts.values)\n",
        "plt.xlabel('Area Category')\n",
        "plt.ylabel('Number of Houses')\n",
        "plt.title(f'Distribution of Houses by Living area')\n",
        "plt.show()"
      ]
    },
    {
      "cell_type": "markdown",
      "id": "6216be38-0c16-4c83-8d9e-79b23baf3464",
      "metadata": {
        "id": "6216be38-0c16-4c83-8d9e-79b23baf3464"
      },
      "source": [
        "#### **Task 4.2: Train/valid/test sets split using stratified sampling** - 2 marks\n",
        "\n",
        "**Task deliverable**:\n",
        "\n",
        "1. Split the dataset into train, validation and test sets using stratified sampling based on the the new categorical attribute you created in Task 4.1. Use a 60%/20%/20% split for train/validation/test sets.\n",
        "2. Compare the proportions of instances (in percentage) for each category in:\n",
        "   - the overall dataset,\n",
        "   - the stratified train and test sets, and\n",
        "   - randomly splitted train and test sets (without stratified sampling).\n",
        "   \n",
        "   Briefly explain the difference of results between stratified and random sampling. Does the choice of stratified sampling make sense in that case?\n",
        "\n",
        "**Remark**:\n",
        "- Don't forget to drop the new feature created for stratifed sampling from the training and test sets after completing this task.\n"
      ]
    },
    {
      "cell_type": "code",
      "execution_count": null,
      "id": "96d9de4c",
      "metadata": {
        "id": "96d9de4c",
        "outputId": "e586f8cb-cb76-4b97-e513-f574e7dd553c"
      },
      "outputs": [
        {
          "data": {
            "text/html": [
              "<div>\n",
              "<style scoped>\n",
              "    .dataframe tbody tr th:only-of-type {\n",
              "        vertical-align: middle;\n",
              "    }\n",
              "\n",
              "    .dataframe tbody tr th {\n",
              "        vertical-align: top;\n",
              "    }\n",
              "\n",
              "    .dataframe thead th {\n",
              "        text-align: right;\n",
              "    }\n",
              "</style>\n",
              "<table border=\"1\" class=\"dataframe\">\n",
              "  <thead>\n",
              "    <tr style=\"text-align: right;\">\n",
              "      <th></th>\n",
              "      <th>%ages Overall data</th>\n",
              "      <th>%ages stratified Training data</th>\n",
              "      <th>%ages stratified Validation data</th>\n",
              "      <th>%ages stratified Test data</th>\n",
              "      <th>%ages random Training data</th>\n",
              "      <th>%ages random Validation data</th>\n",
              "      <th>%ages random Test data</th>\n",
              "      <th>stratified Training data Error %</th>\n",
              "      <th>stratified Validation data Error %</th>\n",
              "      <th>stratified Test data Error %</th>\n",
              "      <th>random Training data Error %</th>\n",
              "      <th>random Validation data Error %</th>\n",
              "      <th>random Test data Error %</th>\n",
              "    </tr>\n",
              "    <tr>\n",
              "      <th>Living Area Category</th>\n",
              "      <th></th>\n",
              "      <th></th>\n",
              "      <th></th>\n",
              "      <th></th>\n",
              "      <th></th>\n",
              "      <th></th>\n",
              "      <th></th>\n",
              "      <th></th>\n",
              "      <th></th>\n",
              "      <th></th>\n",
              "      <th></th>\n",
              "      <th></th>\n",
              "      <th></th>\n",
              "    </tr>\n",
              "  </thead>\n",
              "  <tbody>\n",
              "    <tr>\n",
              "      <th>Small liv Area</th>\n",
              "      <td>1.58</td>\n",
              "      <td>1.60</td>\n",
              "      <td>1.71</td>\n",
              "      <td>1.37</td>\n",
              "      <td>1.37</td>\n",
              "      <td>1.71</td>\n",
              "      <td>2.05</td>\n",
              "      <td>1.45</td>\n",
              "      <td>8.70</td>\n",
              "      <td>-13.04</td>\n",
              "      <td>-13.04</td>\n",
              "      <td>8.70</td>\n",
              "      <td>30.43</td>\n",
              "    </tr>\n",
              "    <tr>\n",
              "      <th>Medium liv Area</th>\n",
              "      <td>48.49</td>\n",
              "      <td>48.52</td>\n",
              "      <td>48.29</td>\n",
              "      <td>48.63</td>\n",
              "      <td>48.63</td>\n",
              "      <td>46.58</td>\n",
              "      <td>50.00</td>\n",
              "      <td>0.05</td>\n",
              "      <td>-0.42</td>\n",
              "      <td>0.28</td>\n",
              "      <td>0.28</td>\n",
              "      <td>-3.95</td>\n",
              "      <td>3.11</td>\n",
              "    </tr>\n",
              "    <tr>\n",
              "      <th>Large liv Area</th>\n",
              "      <td>40.48</td>\n",
              "      <td>40.41</td>\n",
              "      <td>40.75</td>\n",
              "      <td>40.41</td>\n",
              "      <td>40.30</td>\n",
              "      <td>41.10</td>\n",
              "      <td>40.41</td>\n",
              "      <td>-0.17</td>\n",
              "      <td>0.68</td>\n",
              "      <td>-0.17</td>\n",
              "      <td>-0.45</td>\n",
              "      <td>1.52</td>\n",
              "      <td>-0.17</td>\n",
              "    </tr>\n",
              "    <tr>\n",
              "      <th>Extra large liv Area</th>\n",
              "      <td>9.45</td>\n",
              "      <td>9.47</td>\n",
              "      <td>9.25</td>\n",
              "      <td>9.59</td>\n",
              "      <td>9.70</td>\n",
              "      <td>10.62</td>\n",
              "      <td>7.53</td>\n",
              "      <td>0.24</td>\n",
              "      <td>-2.17</td>\n",
              "      <td>1.45</td>\n",
              "      <td>2.66</td>\n",
              "      <td>12.32</td>\n",
              "      <td>-20.29</td>\n",
              "    </tr>\n",
              "  </tbody>\n",
              "</table>\n",
              "</div>"
            ],
            "text/plain": [
              "                      %ages Overall data  %ages stratified Training data  \\\n",
              "Living Area Category                                                       \n",
              "Small liv Area                      1.58                            1.60   \n",
              "Medium liv Area                    48.49                           48.52   \n",
              "Large liv Area                     40.48                           40.41   \n",
              "Extra large liv Area                9.45                            9.47   \n",
              "\n",
              "                      %ages stratified Validation data  \\\n",
              "Living Area Category                                     \n",
              "Small liv Area                                    1.71   \n",
              "Medium liv Area                                  48.29   \n",
              "Large liv Area                                   40.75   \n",
              "Extra large liv Area                              9.25   \n",
              "\n",
              "                      %ages stratified Test data  %ages random Training data  \\\n",
              "Living Area Category                                                           \n",
              "Small liv Area                              1.37                        1.37   \n",
              "Medium liv Area                            48.63                       48.63   \n",
              "Large liv Area                             40.41                       40.30   \n",
              "Extra large liv Area                        9.59                        9.70   \n",
              "\n",
              "                      %ages random Validation data  %ages random Test data  \\\n",
              "Living Area Category                                                         \n",
              "Small liv Area                                1.71                    2.05   \n",
              "Medium liv Area                              46.58                   50.00   \n",
              "Large liv Area                               41.10                   40.41   \n",
              "Extra large liv Area                         10.62                    7.53   \n",
              "\n",
              "                      stratified Training data Error %  \\\n",
              "Living Area Category                                     \n",
              "Small liv Area                                    1.45   \n",
              "Medium liv Area                                   0.05   \n",
              "Large liv Area                                   -0.17   \n",
              "Extra large liv Area                              0.24   \n",
              "\n",
              "                      stratified Validation data Error %  \\\n",
              "Living Area Category                                       \n",
              "Small liv Area                                      8.70   \n",
              "Medium liv Area                                    -0.42   \n",
              "Large liv Area                                      0.68   \n",
              "Extra large liv Area                               -2.17   \n",
              "\n",
              "                      stratified Test data Error %  \\\n",
              "Living Area Category                                 \n",
              "Small liv Area                              -13.04   \n",
              "Medium liv Area                               0.28   \n",
              "Large liv Area                               -0.17   \n",
              "Extra large liv Area                          1.45   \n",
              "\n",
              "                      random Training data Error %  \\\n",
              "Living Area Category                                 \n",
              "Small liv Area                              -13.04   \n",
              "Medium liv Area                               0.28   \n",
              "Large liv Area                               -0.45   \n",
              "Extra large liv Area                          2.66   \n",
              "\n",
              "                      random Validation data Error %  random Test data Error %  \n",
              "Living Area Category                                                            \n",
              "Small liv Area                                  8.70                     30.43  \n",
              "Medium liv Area                                -3.95                      3.11  \n",
              "Large liv Area                                  1.52                     -0.17  \n",
              "Extra large liv Area                           12.32                    -20.29  "
            ]
          },
          "execution_count": 136,
          "metadata": {},
          "output_type": "execute_result"
        }
      ],
      "source": [
        "from sklearn.model_selection import train_test_split\n",
        "\n",
        "#split into stratified training and temporary (40%) set\n",
        "strat_train_set, strat_temp_set = train_test_split(\n",
        "    df_data, test_size=0.4, stratify=df_data[\"Liv_Area_Category\"], random_state=42)\n",
        "#split into stratified test and validation (each 20% of original data) set\n",
        "strat_validation_set, strat_Test_set = train_test_split(\n",
        "    strat_temp_set, test_size=0.5, stratify=strat_temp_set[\"Liv_Area_Category\"], random_state=42)\n",
        "\n",
        "#split into random training and temporary (40%) set\n",
        "random_train_set, random_temp_set = train_test_split(\n",
        "    df_data, test_size=0.4, random_state=42)\n",
        "#split into random test and validation (each 20% of original data) set\n",
        "random_validation_set, random_Test_set = train_test_split(\n",
        "    random_temp_set, test_size=0.5, random_state=42)\n",
        "\n",
        "#function to count proportions\n",
        "def LArea_cat_proportions(pdataset):\n",
        "    return pdataset[\"Liv_Area_Category\"].value_counts() / len(pdataset)\n",
        "\n",
        "compare_proportions = pd.DataFrame({\n",
        "         \"%ages Overall data\": LArea_cat_proportions(df_data),\n",
        "         \"%ages stratified Training data\": LArea_cat_proportions(strat_train_set),\n",
        "         \"%ages stratified Validation data\": LArea_cat_proportions(strat_validation_set),\n",
        "         \"%ages stratified Test data\": LArea_cat_proportions(strat_Test_set),\n",
        "         \"%ages random Training data\": LArea_cat_proportions(random_train_set),\n",
        "         \"%ages random Validation data\": LArea_cat_proportions(random_validation_set),\n",
        "         \"%ages random Test data\": LArea_cat_proportions(random_Test_set),\n",
        "}).sort_index()\n",
        "\n",
        "compare_proportions.index.name = \"Living Area Category\"\n",
        "compare_proportions[\"stratified Training data Error %\"] = (compare_proportions[\"%ages stratified Training data\"] /\n",
        "                                   compare_proportions[\"%ages Overall data\"] - 1)\n",
        "compare_proportions[\"stratified Validation data Error %\"] = (compare_proportions[\"%ages stratified Validation data\"] /\n",
        "                                   compare_proportions[\"%ages Overall data\"] - 1)\n",
        "compare_proportions[\"stratified Test data Error %\"] = (compare_proportions[\"%ages stratified Test data\"] /\n",
        "                                  compare_proportions[\"%ages Overall data\"] - 1)\n",
        "compare_proportions[\"random Training data Error %\"] = (compare_proportions[\"%ages random Training data\"] /\n",
        "                                   compare_proportions[\"%ages Overall data\"] - 1)\n",
        "compare_proportions[\"random Validation data Error %\"] = (compare_proportions[\"%ages random Validation data\"] /\n",
        "                                   compare_proportions[\"%ages Overall data\"] - 1)\n",
        "compare_proportions[\"random Test data Error %\"] = (compare_proportions[\"%ages random Test data\"] /\n",
        "                                  compare_proportions[\"%ages Overall data\"] - 1)\n",
        "\n",
        "(compare_proportions * 100).round(2)\n"
      ]
    },
    {
      "cell_type": "code",
      "execution_count": null,
      "id": "5bfc20d7-d5de-460e-8826-0808eddc7dea",
      "metadata": {
        "id": "5bfc20d7-d5de-460e-8826-0808eddc7dea"
      },
      "outputs": [],
      "source": [
        "# Drop the Area_Category column from train, validation, and test sets\n",
        "strat_train_set = strat_train_set.drop(columns=['Liv_Area_Category'])\n",
        "strat_validation_set = strat_validation_set.drop(columns=['Liv_Area_Category'])\n",
        "strat_Test_set = strat_Test_set.drop(columns=['Liv_Area_Category'])\n"
      ]
    },
    {
      "cell_type": "markdown",
      "id": "388037ad-51aa-4a07-add3-c0c124b636ae",
      "metadata": {
        "id": "388037ad-51aa-4a07-add3-c0c124b636ae"
      },
      "source": [
        "### **Task 5: Pre-processing pipeline** - 4 marks\n",
        "\n",
        "**Task deliverables**:\n",
        "1. Build a pre-processing pipeline with:\n",
        "    - Missing values handling based on median for numerical attributes and most frequent value for categorical attributes.\n",
        "    - Standardisation for numerical attributes.\n",
        "    - Categorical attributes encoding with one-hot encoding.\n",
        "\n",
        "2. *Fit and apply* the pipeline to the stratified train set, without the target values (`SalePrice`). Then, *apply* the fitted pipeline to the stratified validation and test sets, without the target values.\n",
        "\n",
        "3. Did the number of attributes in the sets change after applying this pre-processing pipeline? If yes, briefly explain why.\n"
      ]
    },
    {
      "cell_type": "code",
      "execution_count": null,
      "id": "5f4395b8-1e71-4359-8bd2-5f0ca4669729",
      "metadata": {
        "id": "5f4395b8-1e71-4359-8bd2-5f0ca4669729"
      },
      "outputs": [],
      "source": [
        "# Create copies of datasets without the target variable 'SalePrice'\n",
        "train_set_without_target = strat_train_set.drop(columns=['SalePrice']).copy()\n",
        "validation_set_without_target = strat_validation_set.drop(columns=['SalePrice']).copy()\n",
        "test_set_without_target = strat_Test_set.drop(columns=['SalePrice']).copy()"
      ]
    },
    {
      "cell_type": "code",
      "execution_count": null,
      "id": "b6165503-b28d-431a-8685-d273eee3d94b",
      "metadata": {
        "id": "b6165503-b28d-431a-8685-d273eee3d94b",
        "outputId": "8fc5f3ed-a93d-4499-fe82-53a631801227"
      },
      "outputs": [
        {
          "name": "stdout",
          "output_type": "stream",
          "text": [
            "80 80 80\n"
          ]
        }
      ],
      "source": [
        "train_set_attributes_before_PP = train_set_without_target.shape[1]\n",
        "validation_set_attributes_before_PP = validation_set_without_target.shape[1]\n",
        "test_set_attributes_before_PP = test_set_without_target.shape[1]\n",
        "print(train_set_attributes_before_PP, validation_set_attributes_before_PP, test_set_attributes_before_PP)"
      ]
    },
    {
      "cell_type": "code",
      "execution_count": null,
      "id": "cc408a4e-41a2-4573-ba1f-f70da1fba263",
      "metadata": {
        "id": "cc408a4e-41a2-4573-ba1f-f70da1fba263",
        "outputId": "843662b0-27a7-4876-cf37-a1e5d2cdbecf"
      },
      "outputs": [
        {
          "name": "stdout",
          "output_type": "stream",
          "text": [
            "Preprocessing successful! Train set shape: (876, 476)\n"
          ]
        }
      ],
      "source": [
        "from sklearn.pipeline import Pipeline, make_pipeline\n",
        "from sklearn.compose import ColumnTransformer\n",
        "from sklearn.impute import SimpleImputer\n",
        "from sklearn.preprocessing import StandardScaler, OneHotEncoder\n",
        "\n",
        "# Identify numerical and categorical attributes\n",
        "numerical_features = train_set_without_target.select_dtypes(include=['number']).columns\n",
        "categorical_features = train_set_without_target.select_dtypes(include=['object']).columns\n",
        "\n",
        "# Check if features are empty\n",
        "if len(numerical_features) == 0:\n",
        "    print(\"Warning: No numerical features found!\")\n",
        "if len(categorical_features) == 0:\n",
        "    print(\"Warning: No categorical features found!\")\n",
        "\n",
        "# Define transformers for numerical and categorical attributes\n",
        "numerical_pipeline = Pipeline([\n",
        "    ('imputer', SimpleImputer(strategy='median')),  # Fill missing values with median\n",
        "    ('scaler', StandardScaler())  # Standardize numerical features\n",
        "])\n",
        "\n",
        "categorical_pipeline = Pipeline([\n",
        "    ('imputer', SimpleImputer(strategy='most_frequent')),  # Fill missing values with most frequent value\n",
        "    ('onehot', OneHotEncoder(handle_unknown='ignore',sparse_output=False))  # One-hot encode categorical features\n",
        "])\n",
        "\n",
        "# Combine both pipelines using ColumnTransformer\n",
        "preprocessing_pipeline = ColumnTransformer([\n",
        "    ('num', numerical_pipeline, numerical_features),\n",
        "    ('cat', categorical_pipeline, categorical_features)\n",
        "])\n",
        "\n",
        "# Apply transformation to train dataset\n",
        "train_preprocessed = preprocessing_pipeline.fit_transform(train_set_without_target)\n",
        "validation_preprocessed = preprocessing_pipeline.transform(validation_set_without_target)\n",
        "test_preprocessed = preprocessing_pipeline.transform(test_set_without_target)\n",
        "\n",
        "# Ensure feature_names length matches the transformed dataset\n",
        "feature_names = preprocessing_pipeline.get_feature_names_out()\n",
        "if train_preprocessed.shape[1] != len(feature_names):\n",
        "    raise ValueError(f\"Shape mismatch: transformed data has {train_preprocessed.shape[1]} columns, \"\n",
        "                     f\"but feature_names has {len(feature_names)}\")\n",
        "\n",
        "# Convert transformed data back into DataFrame\n",
        "train_preprocessed_df = pd.DataFrame(train_preprocessed,\n",
        "                                     columns=feature_names,\n",
        "                                     index=train_set_without_target.index)\n",
        "validation_preprocessed_df = pd.DataFrame(validation_preprocessed,\n",
        "                                          columns=feature_names,\n",
        "                                          index=validation_set_without_target.index)\n",
        "test_preprocessed_df = pd.DataFrame(test_preprocessed,\n",
        "                                    columns=feature_names,\n",
        "                                    index=test_set_without_target.index)\n",
        "\n",
        "print(\"Preprocessing successful! Train set shape:\", train_preprocessed_df.shape)"
      ]
    },
    {
      "cell_type": "markdown",
      "id": "727b341a-dd21-4333-931a-7b16c2ea5683",
      "metadata": {
        "id": "727b341a-dd21-4333-931a-7b16c2ea5683"
      },
      "source": [
        "**Explaination**: Number of attributes in preprocessed has significantly increased because of one-hot encoding. One-Hot encoding transforms each categorical attribute into multiple binary columns, one for each unique category in that attribute."
      ]
    },
    {
      "cell_type": "markdown",
      "id": "7d0d0df0-3a86-4414-a882-34492e5527ca",
      "metadata": {
        "id": "7d0d0df0-3a86-4414-a882-34492e5527ca"
      },
      "source": [
        "### **Task 6: Feature selection with Mutual information** - 4 marks\n",
        "\n",
        "The previous step led to generating a lot of attributes and not all of them might be useful to build a model.\n",
        "In this task, you have to perform feature selection using mutual information. Mutual information can be used to measure associations between an attribute and the target. It is similar to correlation in this way, but the advantage of mutual information is that it can detect any kind of relationship, while correlation only detects linear relationships.\n",
        "\n",
        "**Task deliverables**:\n",
        "\n",
        "1. Using the train set only, generate a ranking of the attributes based on mutual information with the target `SalePrice`.\n",
        "2. Drop the attributes with mutual information smaller than 0.01 from the train, valid and test sets.\n",
        "3. Display the number of attributes which were removed during the selection."
      ]
    },
    {
      "cell_type": "code",
      "execution_count": null,
      "id": "4fb3c995-58d2-47f7-9d89-fe17182a61aa",
      "metadata": {
        "id": "4fb3c995-58d2-47f7-9d89-fe17182a61aa",
        "outputId": "6a3dd859-4811-4d61-d53b-ea2a514988d1"
      },
      "outputs": [
        {
          "name": "stdout",
          "output_type": "stream",
          "text": [
            "(876, 476)\n",
            "(876,)\n"
          ]
        }
      ],
      "source": [
        "train_labels = strat_train_set['SalePrice']\n",
        "\n",
        "print(train_preprocessed_df.shape)\n",
        "print(train_labels.shape)"
      ]
    },
    {
      "cell_type": "code",
      "execution_count": null,
      "id": "702f6cda-34e3-4e6b-b5f4-9b4f79dcfc2c",
      "metadata": {
        "id": "702f6cda-34e3-4e6b-b5f4-9b4f79dcfc2c",
        "outputId": "58c1f954-5ecd-422a-f96c-87f254ba2d76"
      },
      "outputs": [
        {
          "name": "stdout",
          "output_type": "stream",
          "text": [
            "num__OverallQual             0.559938\n",
            "num__GrLivArea               0.480019\n",
            "num__TotalBsmtSF             0.403007\n",
            "num__GarageCars              0.397733\n",
            "num__YearBuilt               0.378119\n",
            "                               ...   \n",
            "num__LowQualFinSF            0.000000\n",
            "cat__SaleCondition_Alloca    0.000000\n",
            "cat__SaleCondition_Family    0.000000\n",
            "num__BsmtFinSF2              0.000000\n",
            "num__Id                      0.000000\n",
            "Length: 476, dtype: float64\n"
          ]
        }
      ],
      "source": [
        "from sklearn.feature_selection import mutual_info_regression\n",
        "\n",
        "# Compute mutual information scores\n",
        "mi_scores = mutual_info_regression(train_preprocessed_df, train_labels)\n",
        "\n",
        "# Convert to a Pandas Series for better readability\n",
        "mi_scores = pd.Series(mi_scores, index=train_preprocessed_df.columns)\n",
        "\n",
        "# Sort attributes in descending order of mutual information\n",
        "mi_scores = mi_scores.sort_values(ascending=False)\n",
        "\n",
        "# Display ranking of attributes\n",
        "print(mi_scores)"
      ]
    },
    {
      "cell_type": "code",
      "execution_count": null,
      "id": "41d0563a-5ea7-4420-a163-13dfed79e5a1",
      "metadata": {
        "id": "41d0563a-5ea7-4420-a163-13dfed79e5a1",
        "outputId": "d6c22d3c-e697-4f74-d609-32f9d708eb91"
      },
      "outputs": [
        {
          "name": "stdout",
          "output_type": "stream",
          "text": [
            "Number of features to remove: 290\n",
            "Original number of features: 476\n",
            "Remaining features after selection: 186\n",
            "Number of features removed: 290\n"
          ]
        }
      ],
      "source": [
        "# Identify attributes with MI score < 0.01\n",
        "low_mi_features = mi_scores[mi_scores < 0.01].index.tolist()\n",
        "print(f\"Number of features to remove: {len(low_mi_features)}\")\n",
        "\n",
        "#Drop these features from all datasets\n",
        "train_selected = train_preprocessed_df.drop(columns=low_mi_features)\n",
        "validation_selected = validation_preprocessed_df.drop(columns=low_mi_features)\n",
        "test_selected = test_preprocessed_df.drop(columns=low_mi_features)\n",
        "\n",
        "#Display results\n",
        "print(f\"Original number of features: {train_preprocessed_df.shape[1]}\")\n",
        "print(f\"Remaining features after selection: {train_selected.shape[1]}\")\n",
        "print(f\"Number of features removed: {len(low_mi_features)}\")\n",
        "\n",
        "# Print the remaining feature names\n",
        "#print(\"Selected Features:\", train_selected.columns.tolist())"
      ]
    },
    {
      "cell_type": "markdown",
      "id": "c2ac759a-962a-4e03-b199-4bf74d8b19f2",
      "metadata": {
        "id": "c2ac759a-962a-4e03-b199-4bf74d8b19f2"
      },
      "source": [
        "## **Part 2: Training a simple neural network** - 13 marks\n",
        "\n",
        "This second part is less guided than the first one. You are free to explore a bit more and be more creative to produce the deliverables, within a few constrains."
      ]
    },
    {
      "cell_type": "markdown",
      "id": "be6f3500-bfab-4303-a75f-776f51d35869",
      "metadata": {
        "id": "be6f3500-bfab-4303-a75f-776f51d35869"
      },
      "source": [
        "#### **Task 1: Build and train a neural network** - 8 marks\n",
        "**Task deliverables**:\n",
        "1. Build a simple neural network with 3 hidden layers and 1 output layer. There is no constrain on the number of neurons in each hidden layer, and the activation functions, but you can start with the advice below.\n",
        "2. Build a training loop to train your model on the training set you produced in Part 1. Your training loop should:\n",
        "   - Display the training loss and validation loss after each epoch.\n",
        "   - Store the values of the training loss and validation loss after each epoch.\n",
        "3. Display a plot of your training and validation losses and demonstrate that your model is learning.\n",
        "4. Test your trained model by predicting a few \"new\" instances of the test set and comparing the predicted house value with the expected ones.\n",
        "\n",
        "\n",
        "Constrains:\n",
        "- You are required to use PyTorch for this task.\n",
        "- You are required to use MSE as loss.\n",
        "\n",
        "Some advice:\n",
        "- You can start with 150, 75 and 20 neurons in the 3 hidden layers.\n",
        "- You can use ReLu as activation functions between layers to start with.\n",
        "- Try using the Adam optimiser if your network does not train well with SGD.\n",
        "- It might be practical to create a function containing your training loop, as shown in the lectutorial."
      ]
    },
    {
      "cell_type": "code",
      "execution_count": null,
      "id": "5236e244-3ce4-4538-a3de-caf5ebf960ea",
      "metadata": {
        "id": "5236e244-3ce4-4538-a3de-caf5ebf960ea",
        "outputId": "a1a1b6fb-9cdb-46d9-c1ab-b97ba1678b32"
      },
      "outputs": [
        {
          "name": "stdout",
          "output_type": "stream",
          "text": [
            "Epoch 1/125 - Train Loss: 39012814848.00, Val Loss: 39018594304.00\n",
            "Epoch 2/125 - Train Loss: 39012786176.00, Val Loss: 39018565632.00\n",
            "Epoch 3/125 - Train Loss: 39012753408.00, Val Loss: 39018520576.00\n",
            "Epoch 4/125 - Train Loss: 39012716544.00, Val Loss: 39018467328.00\n",
            "Epoch 5/125 - Train Loss: 39012663296.00, Val Loss: 39018389504.00\n",
            "Epoch 6/125 - Train Loss: 39012589568.00, Val Loss: 39018287104.00\n",
            "Epoch 7/125 - Train Loss: 39012487168.00, Val Loss: 39018139648.00\n",
            "Epoch 8/125 - Train Loss: 39012347904.00, Val Loss: 39017955328.00\n",
            "Epoch 9/125 - Train Loss: 39012163584.00, Val Loss: 39017709568.00\n",
            "Epoch 10/125 - Train Loss: 39011926016.00, Val Loss: 39017402368.00\n",
            "Epoch 11/125 - Train Loss: 39011622912.00, Val Loss: 39017005056.00\n",
            "Epoch 12/125 - Train Loss: 39011233792.00, Val Loss: 39016517632.00\n",
            "Epoch 13/125 - Train Loss: 39010746368.00, Val Loss: 39015911424.00\n",
            "Epoch 14/125 - Train Loss: 39010152448.00, Val Loss: 39015170048.00\n",
            "Epoch 15/125 - Train Loss: 39009419264.00, Val Loss: 39014268928.00\n",
            "Epoch 16/125 - Train Loss: 39008534528.00, Val Loss: 39013187584.00\n",
            "Epoch 17/125 - Train Loss: 39007461376.00, Val Loss: 39011889152.00\n",
            "Epoch 18/125 - Train Loss: 39006179328.00, Val Loss: 39010353152.00\n",
            "Epoch 19/125 - Train Loss: 39004659712.00, Val Loss: 39008526336.00\n",
            "Epoch 20/125 - Train Loss: 39002857472.00, Val Loss: 39006392320.00\n",
            "Epoch 21/125 - Train Loss: 39000739840.00, Val Loss: 39003893760.00\n",
            "Epoch 22/125 - Train Loss: 38998269952.00, Val Loss: 39000985600.00\n",
            "Epoch 23/125 - Train Loss: 38995390464.00, Val Loss: 38997618688.00\n",
            "Epoch 24/125 - Train Loss: 38992060416.00, Val Loss: 38993735680.00\n",
            "Epoch 25/125 - Train Loss: 38988226560.00, Val Loss: 38989279232.00\n",
            "Epoch 26/125 - Train Loss: 38983815168.00, Val Loss: 38984175616.00\n",
            "Epoch 27/125 - Train Loss: 38978764800.00, Val Loss: 38978363392.00\n",
            "Epoch 28/125 - Train Loss: 38973009920.00, Val Loss: 38971752448.00\n",
            "Epoch 29/125 - Train Loss: 38966468608.00, Val Loss: 38964273152.00\n",
            "Epoch 30/125 - Train Loss: 38959054848.00, Val Loss: 38955814912.00\n",
            "Epoch 31/125 - Train Loss: 38950686720.00, Val Loss: 38946295808.00\n",
            "Epoch 32/125 - Train Loss: 38941257728.00, Val Loss: 38935601152.00\n",
            "Epoch 33/125 - Train Loss: 38930661376.00, Val Loss: 38923620352.00\n",
            "Epoch 34/125 - Train Loss: 38918799360.00, Val Loss: 38910234624.00\n",
            "Epoch 35/125 - Train Loss: 38905540608.00, Val Loss: 38895312896.00\n",
            "Epoch 36/125 - Train Loss: 38890766336.00, Val Loss: 38878715904.00\n",
            "Epoch 37/125 - Train Loss: 38874320896.00, Val Loss: 38860296192.00\n",
            "Epoch 38/125 - Train Loss: 38856081408.00, Val Loss: 38839906304.00\n",
            "Epoch 39/125 - Train Loss: 38835875840.00, Val Loss: 38817374208.00\n",
            "Epoch 40/125 - Train Loss: 38813556736.00, Val Loss: 38792523776.00\n",
            "Epoch 41/125 - Train Loss: 38788939776.00, Val Loss: 38765178880.00\n",
            "Epoch 42/125 - Train Loss: 38761836544.00, Val Loss: 38735138816.00\n",
            "Epoch 43/125 - Train Loss: 38732066816.00, Val Loss: 38702194688.00\n",
            "Epoch 44/125 - Train Loss: 38699425792.00, Val Loss: 38666133504.00\n",
            "Epoch 45/125 - Train Loss: 38663692288.00, Val Loss: 38626729984.00\n",
            "Epoch 46/125 - Train Loss: 38624641024.00, Val Loss: 38583746560.00\n",
            "Epoch 47/125 - Train Loss: 38582034432.00, Val Loss: 38536929280.00\n",
            "Epoch 48/125 - Train Loss: 38535630848.00, Val Loss: 38486016000.00\n",
            "Epoch 49/125 - Train Loss: 38485159936.00, Val Loss: 38430732288.00\n",
            "Epoch 50/125 - Train Loss: 38430363648.00, Val Loss: 38370799616.00\n",
            "Epoch 51/125 - Train Loss: 38370947072.00, Val Loss: 38305918976.00\n",
            "Epoch 52/125 - Train Loss: 38306623488.00, Val Loss: 38235770880.00\n",
            "Epoch 53/125 - Train Loss: 38237077504.00, Val Loss: 38160039936.00\n",
            "Epoch 54/125 - Train Loss: 38161997824.00, Val Loss: 38078398464.00\n",
            "Epoch 55/125 - Train Loss: 38081052672.00, Val Loss: 37990494208.00\n",
            "Epoch 56/125 - Train Loss: 37993893888.00, Val Loss: 37895987200.00\n",
            "Epoch 57/125 - Train Loss: 37900173312.00, Val Loss: 37794488320.00\n",
            "Epoch 58/125 - Train Loss: 37799518208.00, Val Loss: 37685628928.00\n",
            "Epoch 59/125 - Train Loss: 37691564032.00, Val Loss: 37569011712.00\n",
            "Epoch 60/125 - Train Loss: 37575921664.00, Val Loss: 37444251648.00\n",
            "Epoch 61/125 - Train Loss: 37452181504.00, Val Loss: 37310926848.00\n",
            "Epoch 62/125 - Train Loss: 37319946240.00, Val Loss: 37168627712.00\n",
            "Epoch 63/125 - Train Loss: 37178798080.00, Val Loss: 37016915968.00\n",
            "Epoch 64/125 - Train Loss: 37028311040.00, Val Loss: 36855357440.00\n",
            "Epoch 65/125 - Train Loss: 36868055040.00, Val Loss: 36683517952.00\n",
            "Epoch 66/125 - Train Loss: 36697583616.00, Val Loss: 36500942848.00\n",
            "Epoch 67/125 - Train Loss: 36516446208.00, Val Loss: 36307181568.00\n",
            "Epoch 68/125 - Train Loss: 36324196352.00, Val Loss: 36101758976.00\n",
            "Epoch 69/125 - Train Loss: 36120371200.00, Val Loss: 35884236800.00\n",
            "Epoch 70/125 - Train Loss: 35904507904.00, Val Loss: 35654131712.00\n",
            "Epoch 71/125 - Train Loss: 35676151808.00, Val Loss: 35410993152.00\n",
            "Epoch 72/125 - Train Loss: 35434827776.00, Val Loss: 35154350080.00\n",
            "Epoch 73/125 - Train Loss: 35180085248.00, Val Loss: 34883747840.00\n",
            "Epoch 74/125 - Train Loss: 34911453184.00, Val Loss: 34598727680.00\n",
            "Epoch 75/125 - Train Loss: 34628485120.00, Val Loss: 34298855424.00\n",
            "Epoch 76/125 - Train Loss: 34330728448.00, Val Loss: 33983684608.00\n",
            "Epoch 77/125 - Train Loss: 34017755136.00, Val Loss: 33652797440.00\n",
            "Epoch 78/125 - Train Loss: 33689120768.00, Val Loss: 33305782272.00\n",
            "Epoch 79/125 - Train Loss: 33344430080.00, Val Loss: 32942249984.00\n",
            "Epoch 80/125 - Train Loss: 32983275520.00, Val Loss: 32561829888.00\n",
            "Epoch 81/125 - Train Loss: 32605288448.00, Val Loss: 32164177920.00\n",
            "Epoch 82/125 - Train Loss: 32210114560.00, Val Loss: 31748978688.00\n",
            "Epoch 83/125 - Train Loss: 31797420032.00, Val Loss: 31315937280.00\n",
            "Epoch 84/125 - Train Loss: 31366922240.00, Val Loss: 30864805888.00\n",
            "Epoch 85/125 - Train Loss: 30918350848.00, Val Loss: 30395373568.00\n",
            "Epoch 86/125 - Train Loss: 30451480576.00, Val Loss: 29907468288.00\n",
            "Epoch 87/125 - Train Loss: 29966135296.00, Val Loss: 29400971264.00\n",
            "Epoch 88/125 - Train Loss: 29462179840.00, Val Loss: 28875808768.00\n",
            "Epoch 89/125 - Train Loss: 28939524096.00, Val Loss: 28331976704.00\n",
            "Epoch 90/125 - Train Loss: 28398145536.00, Val Loss: 27769526272.00\n",
            "Epoch 91/125 - Train Loss: 27838076928.00, Val Loss: 27188584448.00\n",
            "Epoch 92/125 - Train Loss: 27259414528.00, Val Loss: 26589351936.00\n",
            "Epoch 93/125 - Train Loss: 26662334464.00, Val Loss: 25972113408.00\n",
            "Epoch 94/125 - Train Loss: 26047082496.00, Val Loss: 25337243648.00\n",
            "Epoch 95/125 - Train Loss: 25413992448.00, Val Loss: 24685205504.00\n",
            "Epoch 96/125 - Train Loss: 24763484160.00, Val Loss: 24016568320.00\n",
            "Epoch 97/125 - Train Loss: 24096069632.00, Val Loss: 23331995648.00\n",
            "Epoch 98/125 - Train Loss: 23412369408.00, Val Loss: 22632265728.00\n",
            "Epoch 99/125 - Train Loss: 22713106432.00, Val Loss: 21918267392.00\n",
            "Epoch 100/125 - Train Loss: 21999108096.00, Val Loss: 21191012352.00\n",
            "Epoch 101/125 - Train Loss: 21271330816.00, Val Loss: 20451624960.00\n",
            "Epoch 102/125 - Train Loss: 20530845696.00, Val Loss: 19701374976.00\n",
            "Epoch 103/125 - Train Loss: 19778854912.00, Val Loss: 18941644800.00\n",
            "Epoch 104/125 - Train Loss: 19016695808.00, Val Loss: 18173968384.00\n",
            "Epoch 105/125 - Train Loss: 18245834752.00, Val Loss: 17400012800.00\n",
            "Epoch 106/125 - Train Loss: 17467875328.00, Val Loss: 16621592576.00\n",
            "Epoch 107/125 - Train Loss: 16684572672.00, Val Loss: 15840659456.00\n",
            "Epoch 108/125 - Train Loss: 15897814016.00, Val Loss: 15059311616.00\n",
            "Epoch 109/125 - Train Loss: 15109633024.00, Val Loss: 14279787520.00\n",
            "Epoch 110/125 - Train Loss: 14322197504.00, Val Loss: 13504466944.00\n",
            "Epoch 111/125 - Train Loss: 13537809408.00, Val Loss: 12735845376.00\n",
            "Epoch 112/125 - Train Loss: 12758900736.00, Val Loss: 11976543232.00\n",
            "Epoch 113/125 - Train Loss: 11988016128.00, Val Loss: 11229279232.00\n",
            "Epoch 114/125 - Train Loss: 11227817984.00, Val Loss: 10496865280.00\n",
            "Epoch 115/125 - Train Loss: 10481045504.00, Val Loss: 9782173696.00\n",
            "Epoch 116/125 - Train Loss: 9750514688.00, Val Loss: 9088122880.00\n",
            "Epoch 117/125 - Train Loss: 9039091712.00, Val Loss: 8417643008.00\n",
            "Epoch 118/125 - Train Loss: 8349654016.00, Val Loss: 7773637120.00\n",
            "Epoch 119/125 - Train Loss: 7685069824.00, Val Loss: 7158949888.00\n",
            "Epoch 120/125 - Train Loss: 7048148992.00, Val Loss: 6576316416.00\n",
            "Epoch 121/125 - Train Loss: 6441609216.00, Val Loss: 6028311040.00\n",
            "Epoch 122/125 - Train Loss: 5868014080.00, Val Loss: 5517289984.00\n",
            "Epoch 123/125 - Train Loss: 5329728512.00, Val Loss: 5045338112.00\n",
            "Epoch 124/125 - Train Loss: 4828860928.00, Val Loss: 4614193152.00\n",
            "Epoch 125/125 - Train Loss: 4367192576.00, Val Loss: 4225189888.00\n"
          ]
        },
        {
          "data": {
            "image/png": "[encoded data removed]",
            "text/plain": [
              "<Figure size 800x600 with 1 Axes>"
            ]
          },
          "metadata": {},
          "output_type": "display_data"
        },
        {
          "name": "stdout",
          "output_type": "stream",
          "text": [
            "\n",
            "Comparison of Predicted vs Actual House Prices:\n",
            "Predicted: $107,044.27 | Actual: $64,500.00\n",
            "Predicted: $85,924.23 | Actual: $87,000.00\n",
            "Predicted: $73,487.99 | Actual: $90,000.00\n",
            "Predicted: $168,064.88 | Actual: $189,000.00\n",
            "Predicted: $127,477.02 | Actual: $160,000.00\n",
            "Predicted: $98,207.23 | Actual: $127,000.00\n",
            "Predicted: $97,638.37 | Actual: $117,000.00\n",
            "Predicted: $67,170.59 | Actual: $79,000.00\n",
            "Predicted: $206,053.41 | Actual: $302,000.00\n",
            "Predicted: $123,438.94 | Actual: $144,000.00\n",
            "Predicted: $181,612.91 | Actual: $236,500.00\n",
            "Predicted: $106,009.88 | Actual: $159,500.00\n",
            "Predicted: $145,078.88 | Actual: $163,900.00\n",
            "Predicted: $113,960.55 | Actual: $161,750.00\n",
            "Predicted: $199,070.58 | Actual: $180,000.00\n",
            "Predicted: $147,901.91 | Actual: $159,000.00\n",
            "Predicted: $143,314.72 | Actual: $210,000.00\n",
            "Predicted: $119,310.62 | Actual: $129,900.00\n",
            "Predicted: $179,248.48 | Actual: $260,000.00\n",
            "Predicted: $176,248.56 | Actual: $228,000.00\n"
          ]
        }
      ],
      "source": [
        "import torch\n",
        "import torch.nn as nn\n",
        "import torch.optim as optim\n",
        "\n",
        "# Convert Pandas DataFrames to PyTorch tensors\n",
        "X_train = torch.tensor(train_preprocessed_df.values, dtype=torch.float32)\n",
        "y_train = torch.tensor(strat_train_set[\"SalePrice\"].values, dtype=torch.float32).view(-1, 1)\n",
        "\n",
        "X_val = torch.tensor(validation_preprocessed_df.values, dtype=torch.float32)\n",
        "y_val = torch.tensor(strat_validation_set[\"SalePrice\"].values, dtype=torch.float32).view(-1, 1)\n",
        "\n",
        "X_test = torch.tensor(test_preprocessed_df.values, dtype=torch.float32)\n",
        "y_test = torch.tensor(strat_Test_set[\"SalePrice\"].values, dtype=torch.float32).view(-1, 1)\n",
        "\n",
        "# Define the Neural Network\n",
        "class HousePriceNN(nn.Module):\n",
        "    def __init__(self, input_size):\n",
        "        super(HousePriceNN, self).__init__()\n",
        "        self.model = nn.Sequential(\n",
        "             nn.Linear(input_size, 450),\n",
        "             nn.ReLU(),\n",
        "             nn.Linear(450, 200),\n",
        "             nn.ReLU(),\n",
        "             nn.Linear(200, 70),\n",
        "             nn.ReLU(),\n",
        "             nn.Linear(70, 1)  # Output layer (predicts SalePrice)\n",
        "        )\n",
        "\n",
        "    def forward(self, x):\n",
        "        return self.model(x)\n",
        "\n",
        "# Initialize the model\n",
        "input_size = X_train.shape[1]  # Number of features\n",
        "model = HousePriceNN(input_size)\n",
        "\n",
        "# Define Loss Function (MSE) and Optimizer\n",
        "criterion = nn.MSELoss()\n",
        "#criterion = MSLELoss()\n",
        "optimizer = optim.Adam(model.parameters(), lr=0.001)  # Adam optimizer with learning rate 0.001\n",
        "\n",
        "# Training function\n",
        "def train_model(model, X_train, y_train, X_val, y_val, epochs=100):\n",
        "    train_losses = []\n",
        "    val_losses = []\n",
        "\n",
        "    for epoch in range(epochs):\n",
        "        model.train()  # Set model to training mode\n",
        "        optimizer.zero_grad()  # Clear previous gradients\n",
        "        y_pred = model(X_train)  # Forward pass\n",
        "        loss = criterion(y_pred, y_train)  # Compute loss\n",
        "        loss.backward()  # Backpropagation\n",
        "        optimizer.step()  # Update weights\n",
        "\n",
        "        # Validation loss\n",
        "        model.eval()  # Set model to evaluation mode\n",
        "        with torch.no_grad():\n",
        "            y_val_pred = model(X_val)\n",
        "            val_loss = criterion(y_val_pred, y_val)\n",
        "\n",
        "        train_losses.append(loss.item())\n",
        "        val_losses.append(val_loss.item())\n",
        "\n",
        "        # Print loss per epoch\n",
        "        print(f\"Epoch {epoch+1}/{epochs} - Train Loss: {loss.item():.2f}, Val Loss: {val_loss.item():.2f}\")\n",
        "\n",
        "    # Plot training and validation loss\n",
        "    plt.figure(figsize=(8, 6))\n",
        "    plt.plot(range(1, epochs+1), train_losses, label=\"Train Loss\")\n",
        "    plt.plot(range(1, epochs+1), val_losses, label=\"Validation Loss\")\n",
        "    plt.xlabel(\"Epochs\")\n",
        "    plt.ylabel(\"Loss (MSE)\")\n",
        "    plt.title(\"Training & Validation Loss Over Epochs\")\n",
        "    plt.legend()\n",
        "    plt.show()\n",
        "\n",
        "# Train the model\n",
        "train_model(model, X_train, y_train, X_val, y_val, epochs=125)\n",
        "\n",
        "# Test the model on a few samples\n",
        "model.eval()\n",
        "with torch.no_grad():\n",
        "    y_test_pred = model(X_test[:20])  # Predict first 5 samples\n",
        "    y_test_pred = y_test_pred.numpy().flatten()\n",
        "    actual_prices = y_test[:20].numpy().flatten()\n",
        "\n",
        "# Compare predictions with actual values\n",
        "print(\"\\nComparison of Predicted vs Actual House Prices:\")\n",
        "for i in range(20):\n",
        "    print(f\"Predicted: ${y_test_pred[i]:,.2f} | Actual: ${actual_prices[i]:,.2f}\")"
      ]
    },
    {
      "cell_type": "markdown",
      "id": "b3ad4124-42ab-440c-a4c2-3dd2a89d436f",
      "metadata": {
        "id": "b3ad4124-42ab-440c-a4c2-3dd2a89d436f"
      },
      "source": [
        "#### **Task 2: Report on your model** - 5 marks\n",
        "\n",
        "**Task deliverables**:\n",
        "- Write a brief report (max. 300 words), answering the following questions:\n",
        "    - What do you think about the performance of your model training in Task 1?\n",
        "    - What could you try to do to improve the predictive performance of your model?\n",
        "    - What did you find the most challenging when training the model and how did you solve it?\n"
      ]
    },
    {
      "cell_type": "markdown",
      "id": "f284a841-70ef-47d7-a6ec-f99672ccaaba",
      "metadata": {
        "id": "f284a841-70ef-47d7-a6ec-f99672ccaaba"
      },
      "source": [
        "***Report***\n",
        "The performance of the trained neural network was reasonable but had room for improvement. The training and validation loss decreased consistently over epochs, indicating that the model was learning. However, the final validation loss suggested that the model was not generalizing perfectly to unseen data. While the predictions on test samples were close to actual house prices, some variations indicated that the model might still benefit from fine-tuning.\n",
        "\n",
        "To improve the predictive performance, several strategies could be applied. First, hyperparameter tuning could help optimize the learning rate, number of neurons per layer, and batch size. Second, adding dropout layers or L2 regularization could prevent potential overfitting. Also optimizing the number of epochs could help.\n",
        "\n",
        "The key challenges I faced during model training were:\n",
        "a) Preprocessing the data and ensuring meaningful feature representation. Handling mutual information and applying one-hot encoding correctly (using sparse_output=False) was essential to avoid errors.\n",
        "b) Bringing the predicted values within a reasonable range. I experimented with various strategies, including changing the loss function, activation functions, the number of neurons in each layer, and the number of epochs. Eventually, I was able to improve the model's predictions by optimizing the number of neurons and epochs to reduce variance."
      ]
    },
    {
      "cell_type": "code",
      "execution_count": null,
      "id": "3a235e61-3b6b-40ae-a0c0-03deab988288",
      "metadata": {
        "id": "3a235e61-3b6b-40ae-a0c0-03deab988288"
      },
      "outputs": [],
      "source": []
    }
  ],
  "metadata": {
    "kernelspec": {
      "display_name": "Python 3 (ipykernel)",
      "language": "python",
      "name": "python3"
    },
    "language_info": {
      "codemirror_mode": {
        "name": "ipython",
        "version": 3
      },
      "file_extension": ".py",
      "mimetype": "text/x-python",
      "name": "python",
      "nbconvert_exporter": "python",
      "pygments_lexer": "ipython3",
      "version": "3.12.9"
    },
    "colab": {
      "provenance": []
    }
  },
  "nbformat": 4,
  "nbformat_minor": 5
}